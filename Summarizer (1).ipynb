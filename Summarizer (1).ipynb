{
 "cells": [
  {
   "cell_type": "code",
   "execution_count": null,
   "metadata": {},
   "outputs": [],
   "source": [
    "#TEXT SUMMARIZATION\n",
    "from transformers import pipeline\n",
    "\n",
    "def summarize_text_input(text, max_length=150, min_length=40):\n",
    "    # Load summarization model\n",
    "    summarizer = pipeline(\"summarization\", model=\"facebook/bart-large-cnn\")\n",
    "\n",
    "    # Truncate very long inputs\n",
    "    if len(text) > 2000:\n",
    "        print(\" Input too long. Truncating to 2000 characters.!!!\")\n",
    "        text = text[:2000]\n",
    "\n",
    "    # Generate summary\n",
    "    summary = summarizer(text, max_length=max_length, min_length=min_length, do_sample=False)\n",
    "    return summary[0]['summary_text']\n",
    "\n",
    "\n",
    "#MAIN FUNCTION\n",
    "if __name__ == \"__main__\":\n",
    "    print(\" Enter or paste the text you want to summarize. Press ENTER twice when done:\\n\")\n",
    "\n",
    "    #Input text from the user\n",
    "    lines = []\n",
    "    while True:\n",
    "        line = input()\n",
    "        if line.strip() == \"\":\n",
    "            break\n",
    "        lines.append(line)\n",
    "\n",
    "    user_input = \"\\n\".join(lines)\n",
    "\n",
    "    if user_input.strip():\n",
    "        summary = summarize_text_input(user_input)\n",
    "        print(\"\\n Summary:\\n\", summary)\n",
    "    else:\n",
    "        print(\" No input received.!!\")"
   ]
  }
 ],
 "metadata": {
  "colab": {
   "provenance": [],
   "toc_visible": true
  },
  "kernelspec": {
   "display_name": "Python 3 (ipykernel)",
   "language": "python",
   "name": "python3"
  },
  "language_info": {
   "codemirror_mode": {
    "name": "ipython",
    "version": 3
   },
   "file_extension": ".py",
   "mimetype": "text/x-python",
   "name": "python",
   "nbconvert_exporter": "python",
   "pygments_lexer": "ipython3",
   "version": "3.12.7"
  }
 },
 "nbformat": 4,
 "nbformat_minor": 4
}
